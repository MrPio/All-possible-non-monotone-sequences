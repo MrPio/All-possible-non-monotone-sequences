{
 "cells": [
  {
   "cell_type": "markdown",
   "metadata": {},
   "source": [
    "# Counting all the possible non-monotone sequences of a finite discrete set\n",
    "by [Valerio Morelli](https://github.com/MrPio).\n",
    "\n",
    "## The problem definition\n",
    "Let $\\mathcal{A}$ be an alphabet of $n$ ordinal elements, i.e. within which an ordering relation is defined. **We ask how many sequences of elements of $\\mathcal{A}$, of length $l$, can be constructed so that they are non-monotone**.\n",
    "\n",
    "For instance, if $\\mathcal{A}=\\{1,2,3,4,5\\}$, with $a_1\\prec a_2 \\iff a_1 < a_2$, and $l=4$, some non-monotone sequences are: $[1,3,5,2]$, $[4,1,4,4]$ and $[1,5,1,5]$, but not $[1,1,1,1]$ nor $[5,3,3,2]$.\n",
    "\n",
    "## Total enumeration\n",
    "A first approach to tackle the problem is the brute force method.\n",
    "\n",
    "Let $\\mathcal{P}([a_1,a_2,...,a_l])=\\exists{i} (a_i\\le a_{i+1}) \\wedge \\exists{j} (a_j\\ge a_{j+1})$:\n",
    "1. List all the solutions $\\mathbf{a}=[a_1,a_2,...,a_l]$, with $a_i\\in \\mathcal{A}, \\forall i: 1\\leq i\\leq l$,\n",
    "2. Evaluate which of them satisfy the property $\\mathcal{P}$, namely, find $\\xi=\\{\\mathbf{a}|\\mathcal{P}(\\mathbf{a})\\}$,\n",
    "3. Determine $|\\xi|$.\n",
    "\n",
    "This algorithm clearly has an exponentially growing search space. Furthermore, since it evaluates every solution, its complexity is exponential.\n",
    "\n",
    "### Implementation\n",
    "The total enumeration algorithm can be implemented without a great deal of effort in the following way. The time complexity of the algorithm below is $\\mathcal{O}(n^l\\times 2(n-1))=\\mathcal{O}(n^{l+1})$\n",
    "\n",
    "In the following, we will consider $\\mathcal{A}$ to be the alphabet of 26 Latin letters, thus $n=26$. So the problem is to find the number of all possible strings of length $l$ where the letters are not in non-decreasing or non-increasing order."
   ]
  },
  {
   "cell_type": "code",
   "execution_count": 5,
   "metadata": {},
   "outputs": [
    {
     "data": {
      "text/plain": [
       "11596390"
      ]
     },
     "execution_count": 5,
     "metadata": {},
     "output_type": "execute_result"
    }
   ],
   "source": [
    "from itertools import product\n",
    "\n",
    "n = 26\n",
    "l = 5\n",
    "\n",
    "\n",
    "def is_monotone(seq: list[int], non_decreasing: bool) -> bool:\n",
    "    return all(x <= y if non_decreasing else x >= y for x, y in zip(seq[:-1], seq[1:]))\n",
    "\n",
    "\n",
    "non_monotone_sequences = sum(\n",
    "    1 for l in product(range(n), repeat=l)\n",
    "    if not is_monotone(l, non_decreasing=True) and not is_monotone(l, non_decreasing=False)\n",
    ")\n",
    "\n",
    "non_monotone_sequences"
   ]
  },
  {
   "cell_type": "markdown",
   "metadata": {},
   "source": [
    "Here, the `product` function from the `itertools` module is used to generate all the possible sequences of lenght $l$.\n",
    "\n",
    "For $n=26$ and $l=5$, the code found the solution $11,596,390$ in $16.9$ seconds on an *Intel i-7 10750H* laptop processor.\n",
    "\n",
    "## Toward a non-recursive formula\n",
    "Since the total enumeration method is intractable, we'll look for a better approach to solving the counting problem.\n",
    "\n",
    "### Complementary problem of non-decreasing monotone sequences\n",
    "The goal is to find the function $B(n,l)$, defined as **the number of all possible *non-monotone* sequences of length $l$, of an alphabet of length $n$**.\n",
    "However, for simplicity reasons, we choose to consider the complementary problem, namely finding the function $A(n,l)$ defined as **the number of all the possible *non-decreasing monotone* sequences**.\n",
    "\n",
    "The two problems are equivalent since $$B(n,l)=n^l-2\\times A(n,l)+n,$$ \n",
    "where $n^l$ is the number of possible sequences, i.e. $|\\{[a_1,...,a_l]|a_i\\in \\mathcal{A}, \\forall i: 1\\leq i\\leq l\\}| =|\\mathcal{A}|^l=n^l$ and $2\\times A(n,l)-n$ is the number of all possible non-decreasing monotone sequences plus the number of all possible non-increasing monotone sequences minus n, i.e. the number of all possible constant sequences, which would otherwise be counted twice.\n",
    "\n",
    "In Python terms, the function $B$ is defined as follows:"
   ]
  },
  {
   "cell_type": "code",
   "execution_count": 2,
   "metadata": {},
   "outputs": [],
   "source": [
    "def B(n, l):\n",
    "    return n**l - 2*A(n, l) + n"
   ]
  },
  {
   "cell_type": "markdown",
   "metadata": {},
   "source": [
    "### The recursive approach\n",
    "At some expense, we can define the $A$ function as $$A(n,l)=\n",
    "    \\begin{cases}\n",
    "      \\sum_{i=0}^{n-1}{A(n-i,l-1)} &\\text{if } l>1\\\\\n",
    "      n &\\text{if } l=1\n",
    "    \\end{cases}.$$\n",
    "We observe that, for $l=2$, $A$ becomes the Gauss function, i.e. $A(n,2)=G(n)=\\dfrac{n(n+1)}{2}$.\n",
    "\n",
    "In Python terms, the function $A$ is defined as follows:"
   ]
  },
  {
   "cell_type": "code",
   "execution_count": 31,
   "metadata": {},
   "outputs": [
    {
     "data": {
      "text/plain": [
       "11596390"
      ]
     },
     "execution_count": 31,
     "metadata": {},
     "output_type": "execute_result"
    }
   ],
   "source": [
    "def A(n: int, l: int) -> int:\n",
    "    return n if l == 1 else sum(A(n-i, l-1) for i in range(n))\n",
    "\n",
    "\n",
    "B(n, l)"
   ]
  },
  {
   "cell_type": "markdown",
   "metadata": {},
   "source": [
    "For $n=26$ and $l=5$, the code found the same solution as before, i.e. $11,596,390$, with an average time of $5.2$ milliseconds on the same hardware. This is 3,250 times faster than the brute force algorithm.\n",
    "\n",
    "But this is still not enough. Even though the algorithm is much faster than before, it is derived from an open formula and has the exponential time complexity of $\\mathcal{O}(n^{l-1})$. This is empirically proven below."
   ]
  },
  {
   "cell_type": "code",
   "execution_count": null,
   "metadata": {},
   "outputs": [],
   "source": [
    "from time import time_ns\n",
    "\n",
    "avg_times = []\n",
    "for l in range(2, 18):\n",
    "    times = []\n",
    "    for _ in range(2):\n",
    "        s = time_ns()\n",
    "        B(10, l)\n",
    "        times.append(time_ns()-s)\n",
    "    avg_times.append(sum(times)/len(times)/1e6)"
   ]
  },
  {
   "cell_type": "code",
   "execution_count": 63,
   "metadata": {},
   "outputs": [
    {
     "data": {
      "text/plain": [
       "<Axes: xlabel='l', ylabel='t(ms)'>"
      ]
     },
     "execution_count": 63,
     "metadata": {},
     "output_type": "execute_result"
    },
    {
     "data": {
      "image/png": "[encoded data removed]",
      "text/plain": [
       "<Figure size 640x480 with 1 Axes>"
      ]
     },
     "metadata": {},
     "output_type": "display_data"
    }
   ],
   "source": [
    "import seaborn\n",
    "import pandas as pd\n",
    "\n",
    "seaborn.lineplot(pd.DataFrame(\n",
    "    {'t(ms)': avg_times, 'l': range(2, 18)}), x='l', y='t(ms)')"
   ]
  },
  {
   "cell_type": "markdown",
   "metadata": {},
   "source": [
    "## A different point of view\n",
    "The way we've been going won't lead us anywhere. We need a change of perspective to exploit the mathematical properties of the problem.\n",
    "\n",
    "Let's consider a simple case of an alphabet of size $n=4$.\n",
    "\n",
    "<p align=\"center\">\n",
    "    <img src=\"img/example_1_2.png\" width=\"30%\">\n",
    "</p>\n",
    "\n",
    "The reason is as follows: \n",
    "1. fix the first 3 sequence elements with the lowest element of the alphabet. How many sequences can be constructed in this way? $4$, since the last element, the 4th, can be any element of the alphabet and the sequence is always non-decreasing monotone,\n",
    "2. gradually move the 3rd sequence element up. The 4th can assume $3$, then $2$, and then $1$ different values,\n",
    "3. repeat the reasoning for the 2nd and the 1st sequence elements.\n",
    "\n",
    "### The building block\n",
    "\n",
    "It is clear that we need at least 3 elements to create a non-monotone sequence, so let's consider $l=3$. The possible configurations can be summarised in the following table, where the cell contains the possible values for the sequence element $a_1$, given the values of the other two elements $a_2$ and $a_3$. Summing up all the cells gives us $A(4,3)$.\n",
    "\n",
    "||$a_2=1$|$a_2=2$|$a_2=3$|$a_2=4$|\n",
    "|---|:---:|:---:|:---:|:---:|\n",
    "|$a_3=1$| 4 | 3 | 2 | 1 |\n",
    "|$a_3=2$| -  | 3 | 2 | 1 |\n",
    "|$a_3=3$|  - | -  | 2 | 1 |\n",
    "|$a_3=4$|   -|-   | -  | 1 |\n",
    "\n",
    "Following the reasoning described above, we can expand the table for $l=4$ as shown below.\n",
    "\n",
    "<table><thead><tr><th colspan=\"2\"></th><th>a2=1</th><th>a2=2</th><th>a2=3</th><th>a2=4</th></tr></thead><tbody><tr><td rowspan=\"4\">a4=1</td><td>a3=1</td><td>4</td><td>3</td><td>2</td><td>1</td></tr><tr><td>a3=2</td><td>-</td><td>3</td><td>2</td><td>1</td></tr><tr><td>a3=3</td><td>-</td><td>-</td><td>2</td><td>1</td></tr><tr><td>a3=4</td><td>-</td><td>-</td><td>-</td><td>1</td></tr><tr><td rowspan=\"3\">a4=2</td><td>a3=2</td><td>-</td><td>3</td><td>2</td><td>1</td></tr><tr><td>a3=3</td><td>-</td><td>-</td><td>2</td><td>1</td></tr><tr><td>a3=4</td><td>-</td><td>-</td><td>-</td><td>1</td></tr><tr><td rowspan=\"2\">a4=3</td><td>a3=3</td><td>-</td><td>-</td><td>2</td><td>1</td></tr><tr><td>a3=4</td><td>-</td><td>-</td><td>-</td><td>1</td></tr><tr><td>a4=4</td><td>a3=4</td><td>-</td><td>-</td><td>-</td><td>1</td></tr></tbody></table>\n",
    "\n",
    "It is clear that whatever the size of $l$, the rows added to the table are always chosen between those in the table for $l=3$. So we can reduce the whole counting function to a **linear combination of the $n$ rows** $[n,n-1,...,1],[n-1,n-2,...,1],...,[1]$, where their sums are $A(n,2), A(n-1,2),...,A(1,2) = \\frac{n(n+1)}{2}, \\frac{(n-1)n}{2}, ..., 1$.\n",
    "\n",
    "Therefore $A(n,l)=\\lambda_n^l A(n,2) + \\lambda_{n-1}^l A(n-1,2) + ...+\\lambda_1^l A(1,2)$\n",
    "\n",
    "### Pascal's triangle\n",
    "\n",
    "We can convice ourselves that $\\lambda_i^l=\\lambda_i^{l-1}+\\lambda_{i-1}^l, \\forall{i}$.\n",
    "\n",
    "We also observe that the first row cannot appear more than once, i.e. $\\lambda_n^l=1, \\forall{l}$.\n",
    "\n",
    "Starting from $l=3$, where all the coefficients are obviously equal to 1, we can retrieve the following table.\n",
    "\n",
    "<table><thead><tr><th colspan=\"4\"></th><th>l=3<br></th><th>l=4</th><th>l=5</th><th>l=6</th><th>l=7</th><th>l=8</th><th>l=9</th><th>l=10</th></tr></thead><tbody><tr><td colspan=\"4\">4 3 2 1</td><td>1</td><td>1</td><td>1</td><td>1</td><td>1</td><td>1</td><td>1</td><td>1</td></tr><tr><td colspan=\"4\">3 2 1</td><td>1</td><td>2</td><td>3</td><td>4</td><td>5</td><td>6</td><td>7</td><td>8</td></tr><tr><td colspan=\"4\">2 1</td><td>1</td><td>3</td><td>6</td><td>10</td><td>15</td><td>21</td><td>28</td><td>36</td></tr><tr><td colspan=\"4\">1</td><td>1</td><td>4</td><td>10</td><td>20</td><td>35</td><td>56</td><td>84</td><td>120</td></tr></tbody></table>\n",
    "\n",
    "This is the **Pascal's triangle**. From the theory we can derive that $$\\lambda_i^l=\\binom{i+(l-3)}{i}.$$\n",
    "\n",
    "### The closed formula\n",
    "Putting all together, we end up with:\n",
    "$$A(n,l)=\\sum_{i=0}^{n-1}{\\dfrac{(n-1)(n-i)}{2}\\times \\binom{i+(l-3)}{i}}.$$\n",
    "\n",
    "The formula for the original problem is thus\n",
    "\n",
    "$$B(n,l)=n^l-2\\times \\sum_{i=0}^{n-1}{\\dfrac{(n-1)(n-i)}{2}\\times \\binom{i+(l-3)}{i}}+n.$$ \n",
    "\n",
    "The Python implementation, shows the same results as the previous approaches, but with a linear time complexity $\\mathcal{O}(l)$."
   ]
  },
  {
   "cell_type": "code",
   "execution_count": 10,
   "metadata": {},
   "outputs": [
    {
     "data": {
      "text/plain": [
       "(54, 204, 676, 2118, 6474)"
      ]
     },
     "execution_count": 10,
     "metadata": {},
     "output_type": "execute_result"
    }
   ],
   "source": [
    "from scipy.special import comb\n",
    "\n",
    "def G(n): return (n*(n+1))//2\n",
    "\n",
    "\n",
    "def A(n, l):\n",
    "    return sum(G(n-i)*comb(l+i-3, i, exact=True) for i in range(n))\n",
    "\n",
    "\n",
    "B(3, 4),B(3, 5),B(3, 6),B(3, 7),B(3, 8)"
   ]
  },
  {
   "cell_type": "code",
   "execution_count": 94,
   "metadata": {},
   "outputs": [],
   "source": [
    "from time import time_ns\n",
    "\n",
    "avg_times = []\n",
    "for l in range(2, 3000):\n",
    "    times = []\n",
    "    for _ in range(100):\n",
    "        s = time_ns()\n",
    "        B(10, l)\n",
    "        times.append(time_ns()-s)\n",
    "    avg_times.append(sum(times)/len(times)/1e6)"
   ]
  },
  {
   "cell_type": "code",
   "execution_count": 95,
   "metadata": {},
   "outputs": [
    {
     "data": {
      "text/plain": [
       "<Axes: xlabel='l', ylabel='t(ms)'>"
      ]
     },
     "execution_count": 95,
     "metadata": {},
     "output_type": "execute_result"
    },
    {
     "data": {
      "image/png": "[encoded data removed]",
      "text/plain": [
       "<Figure size 640x480 with 1 Axes>"
      ]
     },
     "metadata": {},
     "output_type": "display_data"
    }
   ],
   "source": [
    "import seaborn\n",
    "import pandas as pd\n",
    "\n",
    "seaborn.lineplot(pd.DataFrame(\n",
    "    {'t(ms)': avg_times, 'l': range(2, 3000)}), x='l', y='t(ms)')"
   ]
  }
 ],
 "metadata": {
  "kernelspec": {
   "display_name": "Python 3",
   "language": "python",
   "name": "python3"
  },
  "language_info": {
   "codemirror_mode": {
    "name": "ipython",
    "version": 3
   },
   "file_extension": ".py",
   "mimetype": "text/x-python",
   "name": "python",
   "nbconvert_exporter": "python",
   "pygments_lexer": "ipython3",
   "version": "3.10.12"
  }
 },
 "nbformat": 4,
 "nbformat_minor": 2
}
